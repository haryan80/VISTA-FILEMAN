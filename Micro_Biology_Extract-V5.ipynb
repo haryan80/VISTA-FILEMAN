{
 "cells": [
  {
   "cell_type": "code",
   "execution_count": 1,
   "metadata": {
    "scrolled": true
   },
   "outputs": [],
   "source": [
    "import pandas as pd\n",
    "from tqdm import tqdm\n",
    "import re \n",
    "pd.set_option(\"expand_frame_repr\", False)\n",
    "# pd.set_option('display.max_colwidth', -1)\n",
    "import copy\n"
   ]
  },
  {
   "cell_type": "code",
   "execution_count": null,
   "metadata": {
    "scrolled": true
   },
   "outputs": [
    {
     "name": "stdout",
     "output_type": "stream",
     "text": [
      "12960168\n"
     ]
    },
    {
     "name": "stderr",
     "output_type": "stream",
     "text": [
      "15229910it [00:28, 376501.25it/s]                                                                                      "
     ]
    }
   ],
   "source": [
    "row_list = []\n",
    "dict1={}\n",
    "organism_dict={}\n",
    "i=0\n",
    "FLAG=True\n",
    "num_lines = sum(1 for line in open('C:\\\\Users\\\\haryan\\\\Desktop\\\\putty.log', 'r'))\n",
    "print(num_lines)\n",
    "pbar = tqdm(total = num_lines+1)\n",
    "file_name=open('C:\\\\Users\\\\haryan\\\\Desktop\\\\putty.log', 'r')\n",
    "lines = file_name.readlines()\n",
    "# for i in range(520):\n",
    "while i <len(lines):\n",
    "    pbar.update(1)\n",
    "    if lines[i][0:25]==\"National ID IS >>>>><<<<<\":\n",
    "        if FLAG:\n",
    "            row_list.append(dict1) \n",
    "        FLAG=True    \n",
    "        GRAM_STAIN=\"\"\n",
    "        BACT_RPT_REMARK=\"\"\n",
    "        FUNGUS_YEAST_COMMENT=\"\"\n",
    "        \n",
    "        dict1=dict1.fromkeys(dict1, None)\n",
    "        dict1['National ID']=lines[i][25:-1]\n",
    "        organism_serail_number=0\n",
    "        i=i+1\n",
    "        pbar.update(1)\n",
    "    #Gram STAIN\n",
    "    elif lines[i][0:20]==\"GRAM STAIN>>>>><<<<<\":\n",
    "        while lines[i][:20] == \"GRAM STAIN>>>>><<<<<\": \n",
    "            GRAM_STAIN=GRAM_STAIN+'\\n'+lines[i][20:-1]\n",
    "            i=i+1\n",
    "            pbar.update(1)\n",
    "        dict1['GRAM STAIN']=GRAM_STAIN[1:] \n",
    "    elif lines[i][0:25]==\"BACT RPT REMARK>>>>><<<<<\":\n",
    "        while lines[i][:25] == \"BACT RPT REMARK>>>>><<<<<\": \n",
    "            BACT_RPT_REMARK=BACT_RPT_REMARK+'\\n'+lines[i][25:-1]\n",
    "            i=i+1\n",
    "            pbar.update(1)\n",
    "        dict1['BACT RPT REMARK']=BACT_RPT_REMARK[1:]      \n",
    "    elif lines[i][0:31]==\"FUNGUS/YEAST COMMENT >>>>><<<<<\":\n",
    "        while lines[i][:31] == \"FUNGUS/YEAST COMMENT >>>>><<<<<\": \n",
    "            FUNGUS_YEAST_COMMENT=FUNGUS_YEAST_COMMENT+'\\n'+lines[i][31:-1]\n",
    "            i=i+1\n",
    "            pbar.update(1)\n",
    "        dict1['FUNGUS/YEAST COMMENT']=FUNGUS_YEAST_COMMENT[1:]         \n",
    "    elif lines[i][0:24]==\"[Start Organism Section]\":\n",
    "        organism_dict=organism_dict.fromkeys(organism_dict, None)\n",
    "        organism_serail_number=organism_serail_number+1\n",
    "        organism_dict['Organism Serail Number']=organism_serail_number\n",
    "        FLAG=False\n",
    "        i=i+1\n",
    "        BACT_COMMENT=\"\"\n",
    "        while lines[i][:22] != \"[End Organism Section]\":\n",
    "            \n",
    "            if lines[i][0:22]==\"BACT COMMENT>>>>><<<<<\":\n",
    "   \n",
    "                while lines[i][0:22]==\"BACT COMMENT>>>>><<<<<\":\n",
    "                    BACT_COMMENT=BACT_COMMENT+'\\n'+lines[i][22:-1]\n",
    "                    i=i+1\n",
    "                    pbar.update(1)\n",
    "                organism_dict['BACT COMMENT']=BACT_COMMENT[1:]\n",
    "            else:\n",
    "                L=lines[i].find(\">>>>><<<<<\")\n",
    "                if L!=-1 and lines[i][L+10:-1]!=\"\":\n",
    "                    organism_dict[lines[i][:L]]=lines[i][L+10:-1]\n",
    "                    i=i+1\n",
    "                    pbar.update(1)\n",
    "                else:    \n",
    "                    i=i+1\n",
    "                    pbar.update(1)         \n",
    "        dict1={**dict1,**organism_dict}\n",
    "\n",
    "\n",
    "        row_list.append(dict1)\n",
    "    else:\n",
    "        L=lines[i].find(\">>>>><<<<<\")\n",
    "        if L!=-1 and lines[i][L+10:-1]!=\"\":\n",
    "            dict1[lines[i][:L]]=lines[i][L+10:-1]\n",
    "            pbar.update(1)\n",
    "        i=i+1\n",
    " \n",
    "\n",
    "df= pd.DataFrame(row_list)    \n",
    "file_name.close()    \n",
    "#     df.to_csv('test.csv')\n",
    "print(\"The End\")"
   ]
  },
  {
   "cell_type": "code",
   "execution_count": null,
   "metadata": {},
   "outputs": [],
   "source": [
    "df"
   ]
  },
  {
   "cell_type": "code",
   "execution_count": null,
   "metadata": {},
   "outputs": [],
   "source": [
    "import numpy as np\n",
    "nan_value = float(\"NaN\")\n",
    "df['MYCOLOGY RPT DATE APPROVED'].replace(' 0:00 AM', nan_value, inplace=True)"
   ]
  },
  {
   "cell_type": "code",
   "execution_count": null,
   "metadata": {
    "scrolled": true
   },
   "outputs": [],
   "source": [
    "\n",
    "df['DATE SPECIMEN TAKEN']=pd.to_datetime(df['DATE SPECIMEN TAKEN'],errors = 'coerce')\n",
    "df['DATE REPORT COMPLETED']=pd.to_datetime(df['DATE REPORT COMPLETED'],errors = 'coerce')\n",
    "df['MYCOLOGY RPT DATE APPROVED']=pd.to_datetime(df['MYCOLOGY RPT DATE APPROVED'],errors = 'coerce')\n",
    "df['DATE_TIME_SPECIMEN_TAKEN_MONTH']=df['DATE SPECIMEN TAKEN'].dt.strftime('%Y-%m')\n",
    "df['DATE_REPORT_COMPLETED_MONTH']=df['DATE REPORT COMPLETED'].dt.strftime('%Y-%m')\n",
    "df['MYCOLOGY_RPT_DATE_APPROVED_MONTH']=df['MYCOLOGY RPT DATE APPROVED'].dt.strftime('%Y-%m')\n",
    "df['DATE_TIME_SPECIMEN_TAKEN_YEAR']=df['DATE SPECIMEN TAKEN'].dt.strftime('%Y')\n",
    "df['DATE_REPORT_COMPLETED_YEAR']=df['DATE REPORT COMPLETED'].dt.strftime('%Y')\n",
    "df['MYCOLOGY_RPT_DATE_APPROVED_YEAR']=df['MYCOLOGY RPT DATE APPROVED'].dt.strftime('%Y')\n",
    "\n",
    "\n",
    "# cutoff_date = pd.to_datetime(\"01/01/2019\")\n",
    "# df=df.loc[(df['DATE SPECIMEN TAKEN']>=cutoff_date)|(df['DATE REPORT COMPLETED']>=cutoff_date)|(df['MYCOLOGY RPT DATE APPROVED']>=cutoff_date)]\n",
    "df=df.loc[(df['DATE_TIME_SPECIMEN_TAKEN_YEAR']==\"2024\")|(df['DATE_REPORT_COMPLETED_YEAR']==\"2024\")|(df['MYCOLOGY_RPT_DATE_APPROVED_YEAR']==\"2024\")]\n",
    "# df=df.loc[(df['DATE_TIME_SPECIMEN_TAKEN_MONTH']==\"2024-12\")|(df['DATE_REPORT_COMPLETED_MONTH']==\"2024-12\")|(df['MYCOLOGY_RPT_DATE_APPROVED_MONTH']==\"2024-12\")]"
   ]
  },
  {
   "cell_type": "code",
   "execution_count": null,
   "metadata": {},
   "outputs": [],
   "source": [
    "df"
   ]
  },
  {
   "cell_type": "code",
   "execution_count": null,
   "metadata": {},
   "outputs": [],
   "source": [
    "df.to_csv('C:\\\\Users\\\\haryan\\\\Desktop\\\\micro.csv',index=False)\n",
    "# df.to_excel('C:\\\\Users\\\\haryan\\\\Desktop\\\\micro.xlsx',index=False)"
   ]
  },
  {
   "cell_type": "code",
   "execution_count": null,
   "metadata": {},
   "outputs": [],
   "source": []
  }
 ],
 "metadata": {
  "kernelspec": {
   "display_name": "Python 3 (ipykernel)",
   "language": "python",
   "name": "python3"
  },
  "language_info": {
   "codemirror_mode": {
    "name": "ipython",
    "version": 3
   },
   "file_extension": ".py",
   "mimetype": "text/x-python",
   "name": "python",
   "nbconvert_exporter": "python",
   "pygments_lexer": "ipython3",
   "version": "3.12.4"
  }
 },
 "nbformat": 4,
 "nbformat_minor": 4
}
